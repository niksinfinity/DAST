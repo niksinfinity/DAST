{
  "nbformat": 4,
  "nbformat_minor": 0,
  "metadata": {
    "colab": {
      "name": "Domain Style Transfer",
      "provenance": [],
      "collapsed_sections": [],
      "authorship_tag": "ABX9TyOnz7tIz1/GaLDIjVwR3azC",
      "include_colab_link": true
    },
    "kernelspec": {
      "name": "python3",
      "display_name": "Python 3"
    },
    "accelerator": "GPU"
  },
  "cells": [
    {
      "cell_type": "markdown",
      "metadata": {
        "id": "view-in-github",
        "colab_type": "text"
      },
      "source": [
        "<a href=\"https://colab.research.google.com/github/niksinfinity/DAST/blob/master/Domain_Style_Transfer.ipynb\" target=\"_parent\"><img src=\"https://colab.research.google.com/assets/colab-badge.svg\" alt=\"Open In Colab\"/></a>"
      ]
    },
    {
      "cell_type": "code",
      "metadata": {
        "id": "hdGTS-y4uKdo",
        "colab_type": "code",
        "colab": {}
      },
      "source": [
        "#NVIDIA SETPUP AND TENSORFLOW GPU 1.14 ON CUDA 10.0"
      ],
      "execution_count": 0,
      "outputs": []
    },
    {
      "cell_type": "code",
      "metadata": {
        "id": "a_RunFIxuKZw",
        "colab_type": "code",
        "colab": {}
      },
      "source": [
        "!python -m pip uninstall -y tensorflow tensorflow-gpu\n",
        "!python -m pip install tensorflow-gpu==1.14 ipdb\n",
        "!python -m pip install tensorboard==2.00\n",
        "!python -c \"import tensorflow as tf; print(tf.__version__)\""
      ],
      "execution_count": 0,
      "outputs": []
    },
    {
      "cell_type": "code",
      "metadata": {
        "id": "h52CZt7NsYOD",
        "colab_type": "code",
        "outputId": "5b07dab9-7253-48b9-ed52-b268a4f686a3",
        "colab": {
          "base_uri": "https://localhost:8080/",
          "height": 191
        }
      },
      "source": [
        "%cd /content/\n",
        "!rm -rf DAST\n",
        "!git clone https://github.com/niksinfinity/DAST.git\n",
        "%cd /content/DAST/"
      ],
      "execution_count": 0,
      "outputs": [
        {
          "output_type": "stream",
          "text": [
            "/content\n",
            "Cloning into 'DAST'...\n",
            "remote: Enumerating objects: 156, done.\u001b[K\n",
            "remote: Counting objects: 100% (156/156), done.\u001b[K\n",
            "remote: Compressing objects: 100% (80/80), done.\u001b[K\n",
            "remote: Total 156 (delta 72), reused 138 (delta 61), pack-reused 0\u001b[K\n",
            "Receiving objects: 100% (156/156), 33.65 MiB | 21.35 MiB/s, done.\n",
            "Resolving deltas: 100% (72/72), done.\n",
            "/content/DAST\n",
            "rm: cannot remove './logs/*': No such file or directory\n"
          ],
          "name": "stdout"
        }
      ]
    },
    {
      "cell_type": "code",
      "metadata": {
        "id": "SZ_mU3ILzHOE",
        "colab_type": "code",
        "outputId": "5d21353b-411d-4495-de77-1b8d6ee7e3ad",
        "colab": {
          "base_uri": "https://localhost:8080/",
          "height": 943
        }
      },
      "source": [
        "%env TARGET_DATASET = filter_yahoo\n",
        "%env SOURCE_DATASET = yelp\n",
        "%env NETWORK = ControlGen\n",
        "%env DA_NETWORK = DAST\n",
        "%env TARGET_DATASET_PORTION = 0.1\n",
        "%load_ext tensorboard\n",
        "%tensorboard --logdir ./logs"
      ],
      "execution_count": 0,
      "outputs": []
    },
    {
      "cell_type": "code",
      "metadata": {
        "id": "cQqrSTZcxJW-",
        "colab_type": "code",
        "outputId": "e5347f90-6532-4231-b4bc-09c754368287",
        "colab": {
          "base_uri": "https://localhost:8080/",
          "height": 263
        }
      },
      "source": [
        "!python -c \"import tensorflow as tf;tf.logging.set_verbosity(tf.logging.ERROR);print(tf.__version__)\""
      ],
      "execution_count": 0,
      "outputs": [
        {
          "output_type": "stream",
          "text": [
            "/usr/local/lib/python3.6/dist-packages/tensorflow/python/framework/dtypes.py:516: FutureWarning: Passing (type, 1) or '1type' as a synonym of type is deprecated; in a future version of numpy, it will be understood as (type, (1,)) / '(1,)type'.\n",
            "  _np_qint8 = np.dtype([(\"qint8\", np.int8, 1)])\n",
            "/usr/local/lib/python3.6/dist-packages/tensorflow/python/framework/dtypes.py:517: FutureWarning: Passing (type, 1) or '1type' as a synonym of type is deprecated; in a future version of numpy, it will be understood as (type, (1,)) / '(1,)type'.\n",
            "  _np_quint8 = np.dtype([(\"quint8\", np.uint8, 1)])\n",
            "/usr/local/lib/python3.6/dist-packages/tensorflow/python/framework/dtypes.py:518: FutureWarning: Passing (type, 1) or '1type' as a synonym of type is deprecated; in a future version of numpy, it will be understood as (type, (1,)) / '(1,)type'.\n",
            "  _np_qint16 = np.dtype([(\"qint16\", np.int16, 1)])\n",
            "/usr/local/lib/python3.6/dist-packages/tensorflow/python/framework/dtypes.py:519: FutureWarning: Passing (type, 1) or '1type' as a synonym of type is deprecated; in a future version of numpy, it will be understood as (type, (1,)) / '(1,)type'.\n",
            "  _np_quint16 = np.dtype([(\"quint16\", np.uint16, 1)])\n",
            "/usr/local/lib/python3.6/dist-packages/tensorflow/python/framework/dtypes.py:520: FutureWarning: Passing (type, 1) or '1type' as a synonym of type is deprecated; in a future version of numpy, it will be understood as (type, (1,)) / '(1,)type'.\n",
            "  _np_qint32 = np.dtype([(\"qint32\", np.int32, 1)])\n",
            "/usr/local/lib/python3.6/dist-packages/tensorflow/python/framework/dtypes.py:525: FutureWarning: Passing (type, 1) or '1type' as a synonym of type is deprecated; in a future version of numpy, it will be understood as (type, (1,)) / '(1,)type'.\n",
            "  np_resource = np.dtype([(\"resource\", np.ubyte, 1)])\n",
            "1.14.0\n"
          ],
          "name": "stdout"
        }
      ]
    },
    {
      "cell_type": "code",
      "metadata": {
        "id": "5J-UOmWFzFVl",
        "colab_type": "code",
        "colab": {}
      },
      "source": [
        "!python train_classifier.py --dataset ${TARGET_DATASET} --max_epochs 20"
      ],
      "execution_count": 0,
      "outputs": []
    },
    {
      "cell_type": "code",
      "metadata": {
        "id": "iL-GQp5dC05f",
        "colab_type": "code",
        "colab": {}
      },
      "source": [
        "!python train_domain_classifier.py --domain_adapt --dataset ${TARGET_DATASET} --source_dataset ${SOURCE_DATASET} --max_epochs 5"
      ],
      "execution_count": 0,
      "outputs": []
    },
    {
      "cell_type": "code",
      "metadata": {
        "id": "4el79jGcEXeU",
        "colab_type": "code",
        "colab": {}
      },
      "source": [
        "!python train_style_transfer.py --dataset ${TARGET_DATASET} --network ${NETWORK} --max_epochs 5"
      ],
      "execution_count": 0,
      "outputs": []
    },
    {
      "cell_type": "code",
      "metadata": {
        "id": "Ge_tYo2SEhmQ",
        "colab_type": "code",
        "colab": {}
      },
      "source": [
        "!python train_domain_adapt.py --domain_adapt --dataset ${TARGET_DATASET} --source_dataset ${SOURCE_DATASET} --network ${DA_NETWORK} --training_portion ${TARGET_DATASET_PORTION} --max_epochs 5"
      ],
      "execution_count": 0,
      "outputs": []
    },
    {
      "cell_type": "code",
      "metadata": {
        "id": "HNek6VYAE4i9",
        "colab_type": "code",
        "colab": {}
      },
      "source": [
        "!python evaluation.py --domain_adapt --dataset ${TARGET_DATASET} --source_dataset ${SOURCE_DATASET} --max_epochs 5"
      ],
      "execution_count": 0,
      "outputs": []
    },
    {
      "cell_type": "code",
      "metadata": {
        "id": "ESMCdNwJMXjq",
        "colab_type": "code",
        "colab": {}
      },
      "source": [
        ""
      ],
      "execution_count": 0,
      "outputs": []
    }
  ]
}